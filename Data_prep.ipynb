{
 "cells": [
  {
   "cell_type": "markdown",
   "id": "5aea4222-081c-467d-8b03-9001bc675790",
   "metadata": {},
   "source": [
    "# Python version\n",
    "Python 3.13.0 (tags/v3.13.0:60403a5, Oct  7 2024, 09:38:07) [MSC v.1941 64 bit (AMD64)] on win32"
   ]
  },
  {
   "cell_type": "markdown",
   "id": "71302876-eaaf-4b3e-95f6-ed52e089681a",
   "metadata": {},
   "source": [
    "# Overleaf document\n",
    "https://www.overleaf.com/read/ggqqbccgrqbg#eff08f"
   ]
  },
  {
   "attachments": {},
   "cell_type": "markdown",
   "id": "49e39b4f-7f57-4a7c-8ba1-a7cbcb4c57df",
   "metadata": {},
   "source": [
    "# Household data\n",
    "Using dataset \"household_data_60min_singleindex.csv\" from https://data.open-power-system-data.org/household_data/ and numpy, we can create the following household data:\n",
    "| Household dataframe | `timestamp` | `D_max` | `D_min` | `g_pv` | `alpha` |\n",
    "|---------------------|-------------|---------|---------|--------|---------|\n",
    "| df_1 | cet_cest_timestamp | DE_KN_residential1_dishwasher<br>+DE_KN_residential1_freezer<br>+DE_KN_residential1_heat_pump<br>+DE_KN_residential1_washing_machine | DE_KN_residential1_freezer | DE_KN_residential1_pv | $random([1.5, 3.5])$ |\n",
    "| df_2 | cet_cest_timestamp | DE_KN_residential3_circulation_pump<br>+DE_KN_residential3_dishwasher<br>+DE_KN_residential3_freezer<br>+DE_KN_residential3_refrigerator<br>+DE_KN_residential3_washing_machine | DE_KN_residential3_freezer<br>+DE_KN_residential3_refrigerator | DE_KN_residential3_pv | $random([1.5, 3.5])$ |\n",
    "| df_3 | cet_cest_timestamp | DE_KN_residential4_dishwasher<br>+DE_KN_residential4_ev<br>+DE_KN_residential4_freezer<br>+DE_KN_residential4_heat_pump<br>+DE_KN_residential4_refrigerator<br>+DE_KN_residential4_washing_machine | DE_KN_residential4_refrigerator<br>+DE_KN_residential4_freezer | DE_KN_residential4_pv | $random([1.5, 3.5])$ |\n",
    "| df_4 | cet_cest_timestamp | DE_KN_residential6_circulation_pump<br>+DE_KN_residential6_dishwasher<br>+DE_KN_residential6_freezer<br>+DE_KN_residential6_washing_machine | DE_KN_residential6_freezer | DE_KN_residential6_pv | $random([1.5, 3.5])$ |\n",
    "\n",
    "`beta` for each household is a constant value and `H_l` is updated for each household after each optimization. We can generate `beta` as a random value in $[0.5,0.7]$ for each household and store in a dictionary. `H_l` can be computed for each time slot and stored in the same dictionary."
   ]
  },
  {
   "cell_type": "code",
   "execution_count": 59,
   "id": "3c62dd13-fe4f-45c1-b878-07bacdbea045",
   "metadata": {},
   "outputs": [],
   "source": [
    "import pandas as pd\n",
    "import numpy as np"
   ]
  },
  {
   "cell_type": "code",
   "execution_count": 91,
   "id": "4ddecf08-ac7e-4cd6-9296-5d3319bf3707",
   "metadata": {},
   "outputs": [],
   "source": [
    "# these are the columns that we want to use\n",
    "relevant_cols = ['cet_cest_timestamp', 'DE_KN_residential1_dishwasher', 'DE_KN_residential1_freezer',\n",
    "                 'DE_KN_residential1_heat_pump', 'DE_KN_residential1_pv', 'DE_KN_residential1_washing_machine',\n",
    "                 'DE_KN_residential3_circulation_pump', 'DE_KN_residential3_dishwasher', 'DE_KN_residential3_freezer',\n",
    "                 'DE_KN_residential3_pv', 'DE_KN_residential3_refrigerator', 'DE_KN_residential3_washing_machine',\n",
    "                 'DE_KN_residential4_dishwasher', 'DE_KN_residential4_ev', 'DE_KN_residential4_freezer',\n",
    "                 'DE_KN_residential4_heat_pump', 'DE_KN_residential4_pv', 'DE_KN_residential4_refrigerator',\n",
    "                 'DE_KN_residential4_washing_machine', 'DE_KN_residential6_circulation_pump', 'DE_KN_residential6_dishwasher',\n",
    "                 'DE_KN_residential6_freezer', 'DE_KN_residential6_pv', 'DE_KN_residential6_washing_machine'\n",
    "                ]\n",
    "\n",
    "# extract the columns we want to use and drop any rows containing NaN cells\n",
    "raw_household_data = pd.read_csv('household_data_60min_singleindex.csv', usecols=relevant_cols).dropna()"
   ]
  },
  {
   "cell_type": "code",
   "execution_count": 156,
   "id": "0be26aad-3d28-409a-af0c-980964dabdfe",
   "metadata": {},
   "outputs": [],
   "source": [
    "# create a dataframe for each household\n",
    "# shorten timestamp header\n",
    "# rename appliance headers to remove \"DE_KN_residentialx_\"\n",
    "# rename \"DE_KN_residentialx_pv\" to \"g_pv\"\n",
    "df_1 = raw_household_data[['cet_cest_timestamp',\n",
    "                           'DE_KN_residential1_dishwasher',\n",
    "                           'DE_KN_residential1_freezer',\n",
    "                           'DE_KN_residential1_heat_pump',\n",
    "                           'DE_KN_residential1_pv',\n",
    "                           'DE_KN_residential1_washing_machine'\n",
    "                          ]].copy()\n",
    "df_1 = df_1.rename(columns={'cet_cest_timestamp': 'timestamp',\n",
    "                            'DE_KN_residential1_dishwasher': 'dishwasher',\n",
    "                            'DE_KN_residential1_freezer': 'freezer',\n",
    "                            'DE_KN_residential1_heat_pump': 'heat_pump',\n",
    "                            'DE_KN_residential1_pv': 'g_pv',\n",
    "                            'DE_KN_residential1_washing_machine': 'washing_machine'\n",
    "                            })\n",
    "df_2 = raw_household_data[['cet_cest_timestamp',\n",
    "                           'DE_KN_residential3_circulation_pump',\n",
    "                           'DE_KN_residential3_dishwasher',\n",
    "                           'DE_KN_residential3_freezer',\n",
    "                           'DE_KN_residential3_pv',\n",
    "                           'DE_KN_residential3_refrigerator',\n",
    "                           'DE_KN_residential3_washing_machine'\n",
    "                           ]].copy()\n",
    "df_2 = df_2.rename(columns={'cet_cest_timestamp': 'timestamp',\n",
    "                            'DE_KN_residential3_circulation_pump': 'circulation_pump',\n",
    "                            'DE_KN_residential3_dishwasher': 'dishwasher',\n",
    "                            'DE_KN_residential3_freezer': 'freezer',\n",
    "                            'DE_KN_residential3_pv': 'g_pv',\n",
    "                            'DE_KN_residential3_refrigerator': 'refrigerator',\n",
    "                            'DE_KN_residential3_washing_machine': 'washing_machine'\n",
    "                            })\n",
    "df_3 = raw_household_data[['cet_cest_timestamp',\n",
    "                           'DE_KN_residential4_dishwasher',\n",
    "                           'DE_KN_residential4_ev',\n",
    "                           'DE_KN_residential4_freezer',\n",
    "                           'DE_KN_residential4_heat_pump',\n",
    "                           'DE_KN_residential4_pv',\n",
    "                           'DE_KN_residential4_refrigerator',\n",
    "                           'DE_KN_residential4_washing_machine'\n",
    "                           ]].copy()\n",
    "df_3 = df_3.rename(columns={'cet_cest_timestamp': 'timestamp',\n",
    "                            'DE_KN_residential4_dishwasher': 'dishwasher',\n",
    "                            'DE_KN_residential4_ev': 'ev',\n",
    "                            'DE_KN_residential4_freezer': 'freezer',\n",
    "                            'DE_KN_residential4_heat_pump': 'heat_pump',\n",
    "                            'DE_KN_residential4_pv': 'g_pv',\n",
    "                            'DE_KN_residential4_refrigerator': 'refrigerator',\n",
    "                            'DE_KN_residential4_washing_machine': 'washing_machine'\n",
    "                            })\n",
    "df_4 = raw_household_data[['cet_cest_timestamp',\n",
    "                           'DE_KN_residential6_circulation_pump',\n",
    "                           'DE_KN_residential6_dishwasher',\n",
    "                           'DE_KN_residential6_freezer',\n",
    "                           'DE_KN_residential6_pv',\n",
    "                           'DE_KN_residential6_washing_machine'\n",
    "                           ]].copy()\n",
    "df_4 = df_4.rename(columns={'cet_cest_timestamp': 'timestamp',\n",
    "                            'DE_KN_residential6_circulation_pump': 'circulation_pump',\n",
    "                            'DE_KN_residential6_dishwasher': 'dishwasher',\n",
    "                            'DE_KN_residential6_freezer': 'freezer',\n",
    "                            'DE_KN_residential6_pv': 'g_pv',\n",
    "                            'DE_KN_residential6_washing_machine': 'washing_machine'\n",
    "                            })"
   ]
  },
  {
   "cell_type": "code",
   "execution_count": 157,
   "id": "4ca4eeed-09b2-4ab3-9f0d-5f1325726f27",
   "metadata": {},
   "outputs": [],
   "source": [
    "# compute D_max and D_min for each household\n",
    "# D_max is sum of all appliances\n",
    "# D_min is sum of refrigerator and freezer\n",
    "def compute_Ds(dataframe):\n",
    "    D_max_cols = []\n",
    "    D_min_cols = []\n",
    "    for label in dataframe.columns:\n",
    "        if label not in ['timestamp', 'g_pv']:\n",
    "            D_max_cols.append(label)\n",
    "            if label in ['freezer', 'refrigerator']:\n",
    "                D_min_cols.append(label)\n",
    "    dataframe['D_max'] = dataframe[D_max_cols].sum(axis=1)\n",
    "    dataframe['D_min'] = dataframe[D_min_cols].sum(axis=1)\n",
    "    return dataframe\n",
    "df_1 = compute_Ds(df_1)\n",
    "df_2 = compute_Ds(df_2)\n",
    "df_3 = compute_Ds(df_3)\n",
    "df_4 = compute_Ds(df_4)"
   ]
  },
  {
   "cell_type": "code",
   "execution_count": 158,
   "id": "769b469c-fab2-40ec-9c00-d17d58f4e60e",
   "metadata": {},
   "outputs": [],
   "source": [
    "# delete appliance columns\n",
    "df_1 = df_1.drop(columns=['dishwasher', 'freezer', 'heat_pump', 'washing_machine'])\n",
    "df_2 = df_2.drop(columns=['circulation_pump', 'dishwasher', 'freezer', 'refrigerator', 'washing_machine'])\n",
    "df_3 = df_3.drop(columns=['dishwasher', 'ev', 'freezer', 'heat_pump', 'refrigerator', 'washing_machine'])\n",
    "df_4 = df_4.drop(columns=['circulation_pump', 'dishwasher', 'freezer', 'washing_machine'])"
   ]
  },
  {
   "cell_type": "code",
   "execution_count": 160,
   "id": "aa8d1274-7315-4b63-a4f8-177c8c0d5973",
   "metadata": {},
   "outputs": [],
   "source": [
    "# generate alpha columns\n",
    "df_1['alpha'] = np.random.default_rng(10).integers(low=15, high=35, size=len(df_1), endpoint=True).astype('f') / 10\n",
    "df_2['alpha'] = np.random.default_rng(20).integers(low=15, high=35, size=len(df_2), endpoint=True).astype('f') / 10\n",
    "df_3['alpha'] = np.random.default_rng(30).integers(low=15, high=35, size=len(df_3), endpoint=True).astype('f') / 10\n",
    "df_4['alpha'] = np.random.default_rng(40).integers(low=15, high=35, size=len(df_4), endpoint=True).astype('f') / 10"
   ]
  },
  {
   "cell_type": "code",
   "execution_count": 218,
   "id": "9dab0452-de04-4b24-94b5-c763f61fb1a3",
   "metadata": {},
   "outputs": [],
   "source": [
    "# create household class\n",
    "class Household:\n",
    "    beta = None # constant in (0,1]\n",
    "    H_l = 0 # updated every time slot\n",
    "    data = None # dataframe containing the household's data\n",
    "    has_surplus = True # flag for whether the household has energy surplus or deficit for current time slot\n",
    "    # parameters used in optimization iterations\n",
    "    params = {'V': None,\n",
    "              'k': 1,\n",
    "              'xi_ch': 1,\n",
    "              'xi_dis': 1,\n",
    "             }\n",
    "    # need to figure out how to do\n",
    "    #def update_state(timestamp):\n",
    "    #    rec = data.loc[(data['timestamp'] == timestamp)]\n",
    "    #    if (rec['g_pv'].item()-rec['D_max'].item()) >= 0:\n",
    "    #        has_surplus = True\n",
    "    #    else:\n",
    "    #        has_surplus = False\n",
    "    #def update_H():\n",
    "    #    H_l = 0 # actually calculate H_l(t+1) here\n",
    "\n",
    "# create household objects\n",
    "household_1 = Household\n",
    "household_1.data = df_1\n",
    "household_2 = Household\n",
    "household_2.data = df_2\n",
    "household_3 = Household\n",
    "household_3.data = df_3\n",
    "household_4 = Household\n",
    "household_4.data = df_4"
   ]
  },
  {
   "cell_type": "code",
   "execution_count": 219,
   "id": "db5ab4c5-ff79-4d96-94a6-f9a3ab0c5a57",
   "metadata": {},
   "outputs": [],
   "source": [
    "# create beta values dictionary where betas are (reproducibly) randomly generated in [0.5,0.7]\n",
    "rng = np.random.default_rng(seed=42)\n",
    "generated_betas = rng.integers(low=50, high=70, size=4, endpoint=True) / 100\n",
    "household_1.beta = generated_betas[0].item()\n",
    "household_2.beta = generated_betas[1].item()\n",
    "household_3.beta = generated_betas[2].item()\n",
    "household_4.beta = generated_betas[3].item()"
   ]
  },
  {
   "cell_type": "code",
   "execution_count": 220,
   "id": "48b35dcb-2428-44aa-9e18-4355b7ed0b61",
   "metadata": {},
   "outputs": [
    {
     "data": {
      "text/plain": [
       "0.59"
      ]
     },
     "execution_count": 220,
     "metadata": {},
     "output_type": "execute_result"
    }
   ],
   "source": [
    "household_1.beta"
   ]
  },
  {
   "attachments": {},
   "cell_type": "markdown",
   "id": "a114e729-a65f-424f-be68-8580651b2ee7",
   "metadata": {},
   "source": [
    "# Main grid pricing data\n",
    "Use BC Hydro's residential time-of-day pricing scheme (https://app.bchydro.com/accounts-billing/rates-energy-use/electricity-rates/residential-rates/tiered-time-of-day.html), forgoing the daily surcharge for simplicity:\n",
    "| Description | Time | \\$/kWh  |\n",
    "|-------------|------|---------|\n",
    "| Off-peak    | $[07:00, 16:00) \\cup [21:00, 23:00)$ | 0.1097 |\n",
    "| On-peak     | $[16:00, 21:00)$                     | 0.1597 |\n",
    "| Overnight   | $[23:00, 07:00)$                     | 0.0597 |\n",
    "\n",
    "The unit price of main grid energy can be generated for a given timestamp using a function."
   ]
  },
  {
   "cell_type": "code",
   "execution_count": 114,
   "id": "b1a73d22-016d-45bc-883d-c54dd67ccbb4",
   "metadata": {},
   "outputs": [],
   "source": [
    "from datetime import datetime"
   ]
  },
  {
   "cell_type": "code",
   "execution_count": 168,
   "id": "54cb955c-d843-48b3-9485-6c8295b60b4f",
   "metadata": {},
   "outputs": [],
   "source": [
    "def price(current_timestamp):\n",
    "    # current_timestamp is a string with the following format\n",
    "    # YYYY-MM-DDTHH:MM:SS+ZZZZ\n",
    "    # e.g. 2014-12-11T18:00:00+0100\n",
    "    ts = datetime.strptime(current_timestamp, '%Y-%m-%dT%H:%M:%S%z')\n",
    "\n",
    "    # off-peak: [7,16)\n",
    "    if ((ts.hour >= 7) and (ts.hour < 16)) or ((ts.hour >= 21) and (ts.hour < 23)):\n",
    "        return 0.1097\n",
    "    # on-peak: [16,21)\n",
    "    elif (ts.hour >= 16) and (ts.hour < 21):\n",
    "        return 0.1597\n",
    "    # overnight\n",
    "    else:\n",
    "        return 0.0597"
   ]
  },
  {
   "cell_type": "code",
   "execution_count": 170,
   "id": "541a3594-661d-4376-90de-63f1df3d0482",
   "metadata": {},
   "outputs": [
    {
     "name": "stdout",
     "output_type": "stream",
     "text": [
      "price at 2014-12-11T09:00:00+0100 is 0.1097 $/kWh\n",
      "price at 2014-12-11T22:00:00+0100 is 0.1097 $/kWh\n",
      "price at 2014-12-11T18:00:00+0100 is 0.1597 $/kWh\n",
      "price at 2014-12-11T00:00:00+0100 is 0.0597 $/kWh\n"
     ]
    }
   ],
   "source": [
    "test_timestamps = ['2014-12-11T09:00:00+0100','2014-12-11T22:00:00+0100','2014-12-11T18:00:00+0100','2014-12-11T00:00:00+0100']\n",
    "for i in test_timestamps:\n",
    "    print(f'price at {i} is {price(i)} $/kWh')"
   ]
  },
  {
   "cell_type": "code",
   "execution_count": null,
   "id": "4f55c133-723b-402a-8aa5-8cf004ee50b3",
   "metadata": {},
   "outputs": [],
   "source": []
  }
 ],
 "metadata": {
  "kernelspec": {
   "display_name": "Python 3 (ipykernel)",
   "language": "python",
   "name": "python3"
  },
  "language_info": {
   "codemirror_mode": {
    "name": "ipython",
    "version": 3
   },
   "file_extension": ".py",
   "mimetype": "text/x-python",
   "name": "python",
   "nbconvert_exporter": "python",
   "pygments_lexer": "ipython3",
   "version": "3.13.0"
  }
 },
 "nbformat": 4,
 "nbformat_minor": 5
}
