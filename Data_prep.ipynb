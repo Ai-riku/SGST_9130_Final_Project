{
 "cells": [
  {
   "cell_type": "markdown",
   "id": "5aea4222-081c-467d-8b03-9001bc675790",
   "metadata": {},
   "source": [
    "# Python version\n",
    "Python 3.13.0 (tags/v3.13.0:60403a5, Oct  7 2024, 09:38:07) [MSC v.1941 64 bit (AMD64)] on win32"
   ]
  },
  {
   "cell_type": "markdown",
   "id": "71302876-eaaf-4b3e-95f6-ed52e089681a",
   "metadata": {},
   "source": [
    "# Overleaf document\n",
    "https://www.overleaf.com/read/ggqqbccgrqbg#eff08f"
   ]
  },
  {
   "attachments": {},
   "cell_type": "markdown",
   "id": "49e39b4f-7f57-4a7c-8ba1-a7cbcb4c57df",
   "metadata": {},
   "source": [
    "# Household data\n",
    "Using dataset \"household_data_60min_singleindex.csv\" from https://data.open-power-system-data.org/household_data/ and numpy, we can create the following household data:\n",
    "| Dataframe | `timestamp` | `D_max` | `D_min` | `g_pv` | `alpha` |\n",
    "|-----------|-------------|----------------------------------------------------------------------------------------------------------------------------------------------------------------------------------------------------------|--------------------------------------------------------------------------|-----------------------|--------------------------------------------------------------------------|\n",
    "| household_1 | cet_cest_timestamp | DE_KN_residential1_dishwasher<br>+DE_KN_residential1_freezer<br>+DE_KN_residential1_heat_pump<br>+DE_KN_residential1_washing_machine | DE_KN_residential1_freezer | DE_KN_residential1_pv | $random([1.5, 3.5])$ |\n",
    "| household_2 | cet_cest_timestamp | DE_KN_residential3_circulation_pump<br>+DE_KN_residential3_dishwasher<br>+DE_KN_residential3_freezer<br>+DE_KN_residential3_refrigerator<br>+DE_KN_residential3_washing_machine | DE_KN_residential3_freezer<br>+DE_KN_residential3_refrigerator | DE_KN_residential3_pv | $random([1.5, 3.5])$ |\n",
    "| household_3 | cet_cest_timestamp | DE_KN_residential4_dishwasher<br>+DE_KN_residential4_ev<br>+DE_KN_residential4_freezer<br>+DE_KN_residential4_heat_pump<br>+DE_KN_residential4_refrigerator<br>+DE_KN_residential4_washing_machine | DE_KN_residential4_refrigerator<br>+DE_KN_residential4_freezer | DE_KN_residential4_pv | $random([1.5, 3.5])$ |\n",
    "| household_4 | cet_cest_timestamp | DE_KN_residential6_circulation_pump<br>+DE_KN_residential6_dishwasher<br>+DE_KN_residential6_freezer<br>+DE_KN_residential6_washing_machine | DE_KN_residential6_freezer | DE_KN_residential6_pv | $random([1.5, 3.5])$ |\n",
    "\n",
    "`beta` for each household is a constant value. We can generate it as a random value in $[0.5,0.7]$ for each household and store in a dictionary."
   ]
  },
  {
   "cell_type": "code",
   "execution_count": 59,
   "id": "3c62dd13-fe4f-45c1-b878-07bacdbea045",
   "metadata": {},
   "outputs": [],
   "source": [
    "import pandas as pd\n",
    "import numpy as np"
   ]
  },
  {
   "cell_type": "code",
   "execution_count": 91,
   "id": "4ddecf08-ac7e-4cd6-9296-5d3319bf3707",
   "metadata": {},
   "outputs": [],
   "source": [
    "# these are the columns that we want to use\n",
    "relevant_cols = ['cet_cest_timestamp', 'DE_KN_residential1_dishwasher', 'DE_KN_residential1_freezer',\n",
    "                 'DE_KN_residential1_heat_pump', 'DE_KN_residential1_pv', 'DE_KN_residential1_washing_machine',\n",
    "                 'DE_KN_residential3_circulation_pump', 'DE_KN_residential3_dishwasher', 'DE_KN_residential3_freezer',\n",
    "                 'DE_KN_residential3_pv', 'DE_KN_residential3_refrigerator', 'DE_KN_residential3_washing_machine',\n",
    "                 'DE_KN_residential4_dishwasher', 'DE_KN_residential4_ev', 'DE_KN_residential4_freezer',\n",
    "                 'DE_KN_residential4_heat_pump', 'DE_KN_residential4_pv', 'DE_KN_residential4_refrigerator',\n",
    "                 'DE_KN_residential4_washing_machine', 'DE_KN_residential6_circulation_pump', 'DE_KN_residential6_dishwasher',\n",
    "                 'DE_KN_residential6_freezer', 'DE_KN_residential6_pv', 'DE_KN_residential6_washing_machine'\n",
    "                ]\n",
    "\n",
    "# extract the columns we want to use and drop any rows containing NaN cells\n",
    "raw_household_data = pd.read_csv('household_data_60min_singleindex.csv', usecols=relevant_cols).dropna()"
   ]
  },
  {
   "cell_type": "code",
   "execution_count": 92,
   "id": "0be26aad-3d28-409a-af0c-980964dabdfe",
   "metadata": {},
   "outputs": [],
   "source": [
    "# create a dataframe for each household\n",
    "# shorten timestamp header\n",
    "# rename appliance headers to remove \"DE_KN_residentialx_\"\n",
    "# rename \"DE_KN_residentialx_pv\" to \"g_pv\"\n",
    "household_1 = raw_household_data[['cet_cest_timestamp',\n",
    "                                  'DE_KN_residential1_dishwasher',\n",
    "                                  'DE_KN_residential1_freezer',\n",
    "                                  'DE_KN_residential1_heat_pump',\n",
    "                                  'DE_KN_residential1_pv',\n",
    "                                  'DE_KN_residential1_washing_machine'\n",
    "                                 ]].copy()\n",
    "household_1 = household_1.rename(columns={'cet_cest_timestamp': 'timestamp',\n",
    "                                          'DE_KN_residential1_dishwasher': 'dishwasher',\n",
    "                                          'DE_KN_residential1_freezer': 'freezer',\n",
    "                                          'DE_KN_residential1_heat_pump': 'heat_pump',\n",
    "                                          'DE_KN_residential1_pv': 'g_pv',\n",
    "                                          'DE_KN_residential1_washing_machine': 'washing_machine'\n",
    "                                         })\n",
    "household_2 = raw_household_data[['cet_cest_timestamp',\n",
    "                                  'DE_KN_residential3_circulation_pump',\n",
    "                                  'DE_KN_residential3_dishwasher',\n",
    "                                  'DE_KN_residential3_freezer',\n",
    "                                  'DE_KN_residential3_pv',\n",
    "                                  'DE_KN_residential3_refrigerator',\n",
    "                                  'DE_KN_residential3_washing_machine'\n",
    "                                 ]].copy()\n",
    "household_2 = household_2.rename(columns={'cet_cest_timestamp': 'timestamp',\n",
    "                                          'DE_KN_residential3_circulation_pump': 'circulation_pump',\n",
    "                                          'DE_KN_residential3_dishwasher': 'dishwasher',\n",
    "                                          'DE_KN_residential3_freezer': 'freezer',\n",
    "                                          'DE_KN_residential3_pv': 'g_pv',\n",
    "                                          'DE_KN_residential3_refrigerator': 'refrigerator',\n",
    "                                          'DE_KN_residential3_washing_machine': 'washing_machine'\n",
    "                                         })\n",
    "household_3 = raw_household_data[['cet_cest_timestamp',\n",
    "                                  'DE_KN_residential4_dishwasher',\n",
    "                                  'DE_KN_residential4_ev',\n",
    "                                  'DE_KN_residential4_freezer',\n",
    "                                  'DE_KN_residential4_heat_pump',\n",
    "                                  'DE_KN_residential4_pv',\n",
    "                                  'DE_KN_residential4_refrigerator',\n",
    "                                  'DE_KN_residential4_washing_machine'\n",
    "                                 ]].copy()\n",
    "household_3 = household_3.rename(columns={'cet_cest_timestamp': 'timestamp',\n",
    "                                          'DE_KN_residential4_dishwasher': 'dishwasher',\n",
    "                                          'DE_KN_residential4_ev': 'ev',\n",
    "                                          'DE_KN_residential4_freezer': 'freezer',\n",
    "                                          'DE_KN_residential4_heat_pump': 'heat_pump',\n",
    "                                          'DE_KN_residential4_pv': 'g_pv',\n",
    "                                          'DE_KN_residential4_refrigerator': 'refrigerator',\n",
    "                                          'DE_KN_residential4_washing_machine': 'washing_machine'\n",
    "                                         })\n",
    "household_4 = raw_household_data[['cet_cest_timestamp',\n",
    "                                  'DE_KN_residential6_circulation_pump',\n",
    "                                  'DE_KN_residential6_dishwasher',\n",
    "                                  'DE_KN_residential6_freezer',\n",
    "                                  'DE_KN_residential6_pv',\n",
    "                                  'DE_KN_residential6_washing_machine'\n",
    "                                 ]].copy()\n",
    "household_4 = household_4.rename(columns={'cet_cest_timestamp': 'timestamp',\n",
    "                                          'DE_KN_residential6_circulation_pump': 'circulation_pump',\n",
    "                                          'DE_KN_residential6_dishwasher': 'dishwasher',\n",
    "                                          'DE_KN_residential6_freezer': 'freezer',\n",
    "                                          'DE_KN_residential6_pv': 'g_pv',\n",
    "                                          'DE_KN_residential6_washing_machine': 'washing_machine'\n",
    "                                         })"
   ]
  },
  {
   "cell_type": "code",
   "execution_count": 93,
   "id": "4ca4eeed-09b2-4ab3-9f0d-5f1325726f27",
   "metadata": {},
   "outputs": [],
   "source": [
    "# compute D_max and D_min for each household\n",
    "# D_max is sum of all appliances\n",
    "# D_min is sum of refrigerator and freezer\n",
    "household_1['D_max'] = (household_1['dishwasher']\n",
    "                        + household_1['freezer']\n",
    "                        + household_1['heat_pump']\n",
    "                        + household_1['washing_machine']\n",
    "                       )\n",
    "household_1['D_min'] = household_1['freezer']\n",
    "household_2['D_max'] = (household_2['circulation_pump']\n",
    "                        + household_2['dishwasher']\n",
    "                        + household_2['freezer']\n",
    "                        + household_2['refrigerator']\n",
    "                        + household_2['washing_machine']\n",
    "                       )\n",
    "household_2['D_min'] = (household_2['freezer']\n",
    "                        + household_2['refrigerator']\n",
    "                       )\n",
    "household_3['D_max'] = (household_3['dishwasher']\n",
    "                        + household_3['ev']\n",
    "                        + household_3['freezer']\n",
    "                        + household_3['heat_pump']\n",
    "                        + household_3['refrigerator']\n",
    "                        + household_3['washing_machine']\n",
    "                       )\n",
    "household_3['D_min'] = (household_3['freezer']\n",
    "                        + household_3['refrigerator']\n",
    "                       )\n",
    "household_4['D_max'] = (household_4['circulation_pump']\n",
    "                        + household_4['dishwasher']\n",
    "                        + household_4['freezer']\n",
    "                        + household_4['washing_machine']\n",
    "                       )\n",
    "household_4['D_min'] = household_4['freezer']"
   ]
  },
  {
   "cell_type": "code",
   "execution_count": 94,
   "id": "769b469c-fab2-40ec-9c00-d17d58f4e60e",
   "metadata": {},
   "outputs": [],
   "source": [
    "# delete appliance columns\n",
    "household_1 = household_1.drop(columns=['dishwasher', 'freezer', 'heat_pump', 'washing_machine'])\n",
    "household_2 = household_2.drop(columns=['circulation_pump', 'dishwasher', 'freezer', 'refrigerator', 'washing_machine'])\n",
    "household_3 = household_3.drop(columns=['dishwasher', 'ev', 'freezer', 'heat_pump', 'refrigerator', 'washing_machine'])\n",
    "household_4 = household_4.drop(columns=['circulation_pump', 'dishwasher', 'freezer', 'washing_machine'])"
   ]
  },
  {
   "cell_type": "code",
   "execution_count": 98,
   "id": "aa8d1274-7315-4b63-a4f8-177c8c0d5973",
   "metadata": {},
   "outputs": [],
   "source": [
    "# generate alpha columns\n",
    "household_1['alpha'] = np.random.default_rng(10).integers(low=15, high=35, size=len(household_1), endpoint=True).astype('f') / 10\n",
    "household_2['alpha'] = np.random.default_rng(20).integers(low=15, high=35, size=len(household_2), endpoint=True).astype('f') / 10\n",
    "household_3['alpha'] = np.random.default_rng(30).integers(low=15, high=35, size=len(household_3), endpoint=True).astype('f') / 10\n",
    "household_4['alpha'] = np.random.default_rng(40).integers(low=15, high=35, size=len(household_4), endpoint=True).astype('f') / 10"
   ]
  },
  {
   "cell_type": "code",
   "execution_count": 99,
   "id": "db5ab4c5-ff79-4d96-94a6-f9a3ab0c5a57",
   "metadata": {},
   "outputs": [],
   "source": [
    "# create beta values dictionary where betas are (reproducibly) randomly generated in [0.5,0.7]\n",
    "rng = np.random.default_rng(seed=42)\n",
    "generated_betas = rng.integers(low=50, high=70, size=4, endpoint=True) / 100\n",
    "beta = {'household_1': generated_betas[0].item(),\n",
    "        'household_2': generated_betas[1].item(),\n",
    "        'household_3': generated_betas[2].item(),\n",
    "        'household_4': generated_betas[3].item()\n",
    "       }"
   ]
  },
  {
   "attachments": {},
   "cell_type": "markdown",
   "id": "a114e729-a65f-424f-be68-8580651b2ee7",
   "metadata": {},
   "source": [
    "# Main grid pricing data\n",
    "Use BC Hydro's residential time-of-day pricing scheme (https://app.bchydro.com/accounts-billing/rates-energy-use/electricity-rates/residential-rates/tiered-time-of-day.html), forgoing the daily surcharge for simplicity:\n",
    "| Description | Time | \\$/kWh  |\n",
    "|-------------|------|---------|\n",
    "| Off-peak    | $[07:00, 16:00) \\cup [21:00, 23:00)$ | 0.1097 |\n",
    "| On-peak     | $[16:00, 21:00)$                     | 0.1597 |\n",
    "| Overnight   | $[23:00, 07:00)$                     | 0.0597 |\n",
    "\n",
    "The unit price of main grid energy can be generated for a given timestamp using a function."
   ]
  },
  {
   "cell_type": "code",
   "execution_count": 114,
   "id": "b1a73d22-016d-45bc-883d-c54dd67ccbb4",
   "metadata": {},
   "outputs": [],
   "source": [
    "from datetime import datetime"
   ]
  },
  {
   "cell_type": "code",
   "execution_count": 115,
   "id": "54cb955c-d843-48b3-9485-6c8295b60b4f",
   "metadata": {},
   "outputs": [],
   "source": [
    "def p(current_timestamp):\n",
    "    # current_timestamp is a string with the following format\n",
    "    # YYYY-MM-DDTHH:MM:SS+ZZZZ\n",
    "    # e.g. 2014-12-11T18:00:00+0100\n",
    "    ts = datetime.strptime(current_timestamp, '%Y-%m-%dT%H:%M:%S%z')\n",
    "\n",
    "    # off-peak: [7,16)\n",
    "    if ((ts.hour >= 7) and (ts.hour < 16)) or ((ts.hour >= 21) and (ts.hour < 23)):\n",
    "        return 0.1097\n",
    "    # on-peak: [16,21)\n",
    "    elif (ts.hour >= 16) and (ts.hour < 21):\n",
    "        return 0.1597\n",
    "    # overnight\n",
    "    else:\n",
    "        return 0.0597"
   ]
  },
  {
   "cell_type": "code",
   "execution_count": null,
   "id": "541a3594-661d-4376-90de-63f1df3d0482",
   "metadata": {},
   "outputs": [],
   "source": []
  }
 ],
 "metadata": {
  "kernelspec": {
   "display_name": "Python 3 (ipykernel)",
   "language": "python",
   "name": "python3"
  },
  "language_info": {
   "codemirror_mode": {
    "name": "ipython",
    "version": 3
   },
   "file_extension": ".py",
   "mimetype": "text/x-python",
   "name": "python",
   "nbconvert_exporter": "python",
   "pygments_lexer": "ipython3",
   "version": "3.13.0"
  }
 },
 "nbformat": 4,
 "nbformat_minor": 5
}
